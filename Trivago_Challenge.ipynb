{
  "nbformat": 4,
  "nbformat_minor": 0,
  "metadata": {
    "colab": {
      "name": "Challenge.ipynb",
      "version": "0.3.2",
      "provenance": [],
      "include_colab_link": true
    },
    "language_info": {
      "codemirror_mode": {
        "name": "ipython",
        "version": 3
      },
      "file_extension": ".py",
      "mimetype": "text/x-python",
      "name": "python",
      "nbconvert_exporter": "python",
      "pygments_lexer": "ipython3",
      "version": "3.7.3"
    },
    "kernelspec": {
      "name": "python3",
      "display_name": "Python 3"
    },
    "accelerator": "GPU"
  },
  "cells": [
    {
      "cell_type": "markdown",
      "metadata": {
        "id": "view-in-github",
        "colab_type": "text"
      },
      "source": [
        "<a href=\"https://colab.research.google.com/github/hassaanseeker/ML_Notebooks/blob/master/Trivago_Challenge.ipynb\" target=\"_parent\"><img src=\"https://colab.research.google.com/assets/colab-badge.svg\" alt=\"Open In Colab\"/></a>"
      ]
    },
    {
      "cell_type": "markdown",
      "metadata": {
        "id": "cdNHIT2bjbZ5",
        "colab_type": "text"
      },
      "source": [
        "# **IMPORTING ALL REQUIRED LIBRARIES**"
      ]
    },
    {
      "cell_type": "code",
      "metadata": {
        "id": "PkCooG9ZJOAg",
        "colab_type": "code",
        "outputId": "982bd7c7-0097-4b85-d312-ceb21e70ea97",
        "colab": {
          "base_uri": "https://localhost:8080/",
          "height": 120
        }
      },
      "source": [
        "import pandas as pd\n",
        "import numpy as np\n",
        "import matplotlib.pyplot as plt\n",
        "import xgboost as xgb\n",
        "from sklearn.model_selection import train_test_split\n",
        "from sklearn.metrics import mean_squared_error\n",
        "from math import sqrt\n",
        "from xgboost import plot_importance\n",
        "import lightgbm as lgb\n",
        "# from skopt import BayesSearchCV\n",
        "from sklearn.model_selection import StratifiedKFold\n",
        "import sklearn\n",
        "\n",
        "pd.set_option('display.max_rows', 500)\n",
        "pd.set_option('display.max_columns', 500)\n",
        "pd.set_option('display.width', 1000)\n",
        "\n",
        "from google.colab import drive\n",
        "drive.mount('/content/gdrive')"
      ],
      "execution_count": 2,
      "outputs": [
        {
          "output_type": "stream",
          "text": [
            "Go to this URL in a browser: https://accounts.google.com/o/oauth2/auth?client_id=947318989803-6bn6qk8qdgf4n4g3pfee6491hc0brc4i.apps.googleusercontent.com&redirect_uri=urn%3Aietf%3Awg%3Aoauth%3A2.0%3Aoob&scope=email%20https%3A%2F%2Fwww.googleapis.com%2Fauth%2Fdocs.test%20https%3A%2F%2Fwww.googleapis.com%2Fauth%2Fdrive%20https%3A%2F%2Fwww.googleapis.com%2Fauth%2Fdrive.photos.readonly%20https%3A%2F%2Fwww.googleapis.com%2Fauth%2Fpeopleapi.readonly&response_type=code\n",
            "\n",
            "Enter your authorization code:\n",
            "··········\n",
            "Mounted at /content/gdrive\n"
          ],
          "name": "stdout"
        }
      ]
    },
    {
      "cell_type": "code",
      "metadata": {
        "id": "UMp0ln9eJOAm",
        "colab_type": "code",
        "colab": {}
      },
      "source": [
        "## Reading the Data-Set\n",
        "data = pd.read_csv('gdrive/My Drive/kaggle_challenges/ML Data Scientist Case Study Data.csv', sep = \";\")"
      ],
      "execution_count": 0,
      "outputs": []
    },
    {
      "cell_type": "code",
      "metadata": {
        "id": "GjC9zxi6l5gl",
        "colab_type": "code",
        "colab": {}
      },
      "source": [
        "def data_missing_hit_split(data):\n",
        "  \"\"\"Function for splitting the Train And Test Date\"\"\"\n",
        "  data_train = data[data['hits'] != r'\\N'].reset_index().drop(columns = {'index'})\n",
        "  data_test = data[data['hits'] == r'\\N'].reset_index().drop(columns = {'index'})\n",
        "\n",
        "    ## Unit Test for checking the split was Ok.\n",
        "  if data_train.shape[0] + data_test.shape[0] == data.shape[0]:\n",
        "    print('Data split OK...')\n",
        "    return data_train, data_test"
      ],
      "execution_count": 0,
      "outputs": []
    },
    {
      "cell_type": "code",
      "metadata": {
        "id": "NZygqW9PJOAw",
        "colab_type": "code",
        "outputId": "4e5311a1-6f6d-4781-8356-d34d1441b1aa",
        "colab": {
          "base_uri": "https://localhost:8080/",
          "height": 33
        }
      },
      "source": [
        "data_train, data_test = data_missing_hit_split(data)"
      ],
      "execution_count": 33,
      "outputs": [
        {
          "output_type": "stream",
          "text": [
            "Data split OK...\n"
          ],
          "name": "stdout"
        }
      ]
    },
    {
      "cell_type": "code",
      "metadata": {
        "id": "lHU5_L4MJOAs",
        "colab_type": "code",
        "outputId": "09d53c6c-cd5b-4751-b2cc-9a22a72b935f",
        "colab": {
          "base_uri": "https://localhost:8080/",
          "height": 167
        }
      },
      "source": [
        "data.groupby(['day_of_week']).hits.count() ## Checking if there is any imbalance in the Data-Set"
      ],
      "execution_count": 47,
      "outputs": [
        {
          "output_type": "execute_result",
          "data": {
            "text/plain": [
              "day_of_week\n",
              "Friday       127740\n",
              "Monday       158685\n",
              "Saturday     119350\n",
              "Sunday       144330\n",
              "Thursday     136476\n",
              "Tuesday      155001\n",
              "Wednesday    147099\n",
              "Name: hits, dtype: int64"
            ]
          },
          "metadata": {
            "tags": []
          },
          "execution_count": 47
        }
      ]
    },
    {
      "cell_type": "code",
      "metadata": {
        "id": "CVYHp32YJOAq",
        "colab_type": "code",
        "colab": {}
      },
      "source": [
        "def bar_chart(data, groupby_parameter):\n",
        "  \"\"\"Function for plotting bar-charts to check if there is any imbalance in the Data-Set\"\"\"\n",
        "  objects = tuple(dict(data.groupby([groupby_parameter]).hits.count()).keys())\n",
        "  y_pos = np.arange(len(objects))\n",
        "    \n",
        "  count = list(dict(data_train.groupby([groupby_parameter]).hits.count()).values())\n",
        "  plt.bar(y_pos, count, align = 'center', alpha = 0.5)\n",
        "  plt.xticks(y_pos, objects)\n",
        "\n",
        "  plt.show()"
      ],
      "execution_count": 0,
      "outputs": []
    },
    {
      "cell_type": "code",
      "metadata": {
        "id": "iGtnWdmUJOAz",
        "colab_type": "code",
        "outputId": "7a28f78c-6337-46d2-ba51-6f0fc539a5bf",
        "colab": {
          "base_uri": "https://localhost:8080/",
          "height": 521
        }
      },
      "source": [
        "bar_chart(data_train, 'day_of_week')\n",
        "bar_chart(data_test, 'day_of_week')"
      ],
      "execution_count": 0,
      "outputs": [
        {
          "output_type": "display_data",
          "data": {
            "image/png": "[encoded data removed]",
            "text/plain": [
              "<Figure size 432x288 with 1 Axes>"
            ]
          },
          "metadata": {
            "tags": []
          }
        },
        {
          "output_type": "display_data",
          "data": {
            "image/png": "[encoded data removed]",
            "text/plain": [
              "<Figure size 432x288 with 1 Axes>"
            ]
          },
          "metadata": {
            "tags": []
          }
        }
      ]
    },
    {
      "cell_type": "code",
      "metadata": {
        "id": "WGvh4DB7JOA6",
        "colab_type": "code",
        "outputId": "5298c597-c7f1-4702-f50c-66166de00e45",
        "colab": {
          "base_uri": "https://localhost:8080/",
          "height": 521
        }
      },
      "source": [
        "bar_chart(data_train, 'traffic_type')\n",
        "bar_chart(data_test, 'traffic_type')"
      ],
      "execution_count": 0,
      "outputs": [
        {
          "output_type": "display_data",
          "data": {
            "image/png": "[encoded data removed]",
            "text/plain": [
              "<Figure size 432x288 with 1 Axes>"
            ]
          },
          "metadata": {
            "tags": []
          }
        },
        {
          "output_type": "display_data",
          "data": {
            "image/png": "[encoded data removed]",
            "text/plain": [
              "<Figure size 432x288 with 1 Axes>"
            ]
          },
          "metadata": {
            "tags": []
          }
        }
      ]
    },
    {
      "cell_type": "code",
      "metadata": {
        "id": "kI0fOYLUJOA1",
        "colab_type": "code",
        "outputId": "37d9568f-28a4-4d0f-accd-9da4138c341c",
        "colab": {
          "base_uri": "https://localhost:8080/",
          "height": 521
        }
      },
      "source": [
        "bar_chart(data_train, 'locale')\n",
        "bar_chart(data_test, 'locale')"
      ],
      "execution_count": 0,
      "outputs": [
        {
          "output_type": "display_data",
          "data": {
            "image/png": "[encoded data removed]",
            "text/plain": [
              "<Figure size 432x288 with 1 Axes>"
            ]
          },
          "metadata": {
            "tags": []
          }
        },
        {
          "output_type": "display_data",
          "data": {
            "image/png": "[encoded data removed]",
            "text/plain": [
              "<Figure size 432x288 with 1 Axes>"
            ]
          },
          "metadata": {
            "tags": []
          }
        }
      ]
    },
    {
      "cell_type": "markdown",
      "metadata": {
        "id": "CXrSrwpjkXGn",
        "colab_type": "text"
      },
      "source": [
        "**As we can see from the above plots there are some imbalances in the classes. We will consider this in feature engineering.**"
      ]
    },
    {
      "cell_type": "markdown",
      "metadata": {
        "id": "rmzN9HvO4xg4",
        "colab_type": "text"
      },
      "source": [
        "**FEATURE-ENGINEERING**"
      ]
    },
    {
      "cell_type": "code",
      "metadata": {
        "id": "gTbzntRTJOA9",
        "colab_type": "code",
        "colab": {}
      },
      "source": [
        "data_train = data_train[data_train['path_id_set'].isnull() == False]\n",
        "data_test = data_test[data_test['path_id_set'].isnull() == False]"
      ],
      "execution_count": 0,
      "outputs": []
    },
    {
      "cell_type": "code",
      "metadata": {
        "id": "jx-BycIIk3YR",
        "colab_type": "code",
        "colab": {
          "base_uri": "https://localhost:8080/",
          "height": 196
        },
        "outputId": "3e2ba672-44c1-463f-f046-87c550e21769"
      },
      "source": [
        "data_train.head()"
      ],
      "execution_count": 49,
      "outputs": [
        {
          "output_type": "execute_result",
          "data": {
            "text/html": [
              "<div>\n",
              "<style scoped>\n",
              "    .dataframe tbody tr th:only-of-type {\n",
              "        vertical-align: middle;\n",
              "    }\n",
              "\n",
              "    .dataframe tbody tr th {\n",
              "        vertical-align: top;\n",
              "    }\n",
              "\n",
              "    .dataframe thead th {\n",
              "        text-align: right;\n",
              "    }\n",
              "</style>\n",
              "<table border=\"1\" class=\"dataframe\">\n",
              "  <thead>\n",
              "    <tr style=\"text-align: right;\">\n",
              "      <th></th>\n",
              "      <th>row_num</th>\n",
              "      <th>locale</th>\n",
              "      <th>day_of_week</th>\n",
              "      <th>hour_of_day</th>\n",
              "      <th>agent_id</th>\n",
              "      <th>entry_page</th>\n",
              "      <th>path_id_set</th>\n",
              "      <th>traffic_type</th>\n",
              "      <th>session_durantion</th>\n",
              "      <th>hits</th>\n",
              "    </tr>\n",
              "  </thead>\n",
              "  <tbody>\n",
              "    <tr>\n",
              "      <th>0</th>\n",
              "      <td>988680</td>\n",
              "      <td>L2</td>\n",
              "      <td>Thursday</td>\n",
              "      <td>22</td>\n",
              "      <td>10</td>\n",
              "      <td>2113</td>\n",
              "      <td>31965;0</td>\n",
              "      <td>2</td>\n",
              "      <td>49</td>\n",
              "      <td>14</td>\n",
              "    </tr>\n",
              "    <tr>\n",
              "      <th>1</th>\n",
              "      <td>988679</td>\n",
              "      <td>L4</td>\n",
              "      <td>Saturday</td>\n",
              "      <td>21</td>\n",
              "      <td>2</td>\n",
              "      <td>2100</td>\n",
              "      <td>0;78464</td>\n",
              "      <td>1</td>\n",
              "      <td>1892</td>\n",
              "      <td>14</td>\n",
              "    </tr>\n",
              "    <tr>\n",
              "      <th>2</th>\n",
              "      <td>988678</td>\n",
              "      <td>L3</td>\n",
              "      <td>Saturday</td>\n",
              "      <td>19</td>\n",
              "      <td>8</td>\n",
              "      <td>2113</td>\n",
              "      <td>51462</td>\n",
              "      <td>6</td>\n",
              "      <td>0</td>\n",
              "      <td>1</td>\n",
              "    </tr>\n",
              "    <tr>\n",
              "      <th>3</th>\n",
              "      <td>988677</td>\n",
              "      <td>L2</td>\n",
              "      <td>Tuesday</td>\n",
              "      <td>6</td>\n",
              "      <td>10</td>\n",
              "      <td>2116</td>\n",
              "      <td>31931;0</td>\n",
              "      <td>1</td>\n",
              "      <td>2</td>\n",
              "      <td>3</td>\n",
              "    </tr>\n",
              "    <tr>\n",
              "      <th>4</th>\n",
              "      <td>988676</td>\n",
              "      <td>L3</td>\n",
              "      <td>Monday</td>\n",
              "      <td>1</td>\n",
              "      <td>8</td>\n",
              "      <td>2100</td>\n",
              "      <td>0</td>\n",
              "      <td>1</td>\n",
              "      <td>0</td>\n",
              "      <td>2</td>\n",
              "    </tr>\n",
              "  </tbody>\n",
              "</table>\n",
              "</div>"
            ],
            "text/plain": [
              "   row_num locale day_of_week  hour_of_day  agent_id  entry_page path_id_set  traffic_type session_durantion hits\n",
              "0   988680     L2    Thursday           22        10        2113     31965;0             2                49   14\n",
              "1   988679     L4    Saturday           21         2        2100     0;78464             1              1892   14\n",
              "2   988678     L3    Saturday           19         8        2113       51462             6                 0    1\n",
              "3   988677     L2     Tuesday            6        10        2116     31931;0             1                 2    3\n",
              "4   988676     L3      Monday            1         8        2100           0             1                 0    2"
            ]
          },
          "metadata": {
            "tags": []
          },
          "execution_count": 49
        }
      ]
    },
    {
      "cell_type": "code",
      "metadata": {
        "id": "MgfGtei7JOA_",
        "colab_type": "code",
        "colab": {}
      },
      "source": [
        "data_train = data_train[data_train['session_durantion'] != '\\\\N'] ## removing null values from session_duration\n",
        "data_test = data_test[data_test['session_durantion'] != '\\\\N']\n",
        "\n",
        "data_train['hits'] = data_train['hits'].astype('int') ## Converting hits column to integer\n",
        "data_train = data_train[data_train['hits'] <= 1000]\n",
        "\n",
        "## Creating a new binary column where if 0 then no location visited else 1 if visited.\n",
        "data_train.loc[data_train.path_id_set == '0', 'loc_visited'] = 0 \n",
        "data_train['loc_visited'] = data_train['loc_visited'].fillna(1)\n",
        "data_test.loc[data_test.path_id_set == '0', 'loc_visited'] = 0 \n",
        "data_test['loc_visited'] = data_test['loc_visited'].fillna(1)\n",
        "\n",
        "\n",
        "## Get count if visited any location or not variable name zero count which represents wether a location was visited or not.\n",
        "zero_count = data_train['path_id_set'].str.split(';', n = 133, expand = True).isin({'0'}).sum(1)\n",
        "zero_count_test = data_test['path_id_set'].str.split(';', n = 133, expand = True).isin({'0'}).sum(1)\n",
        "\n",
        "\n",
        "## Creating a new columns where we add all postal codes together to get one single value.\n",
        "data_train['all_loc_sum'] = data_train['path_id_set'].str.split(';', n= 133, expand = True).fillna(0).astype('int').sum(axis = 1)\n",
        "data_test['all_loc_sum'] = data_test['path_id_set'].str.split(';', n= 133, expand = True).fillna(0).astype('int').sum(axis = 1)"
      ],
      "execution_count": 0,
      "outputs": []
    },
    {
      "cell_type": "code",
      "metadata": {
        "id": "AsSZDpRLJOBJ",
        "colab_type": "code",
        "colab": {}
      },
      "source": [
        "def custom_encoding_ordinal_categorical_variables_day_of_week(data):\n",
        "    \n",
        "    \"\"\"Seeing according to ISO 8601 Monday is the first day\n",
        "    in a week we create the below dictionary for categorical variable\"\"\"\n",
        "    \n",
        "    day_dic = {'Monday': 1, 'Tuesday': 2, 'Wednesday': 3, 'Thursday': 4, 'Friday': 5, 'Saturday': 6, 'Sunday': 7}\n",
        "    data['day_of_week'] = data['day_of_week'].replace(day_dic)\n",
        "    \n",
        "    return data"
      ],
      "execution_count": 0,
      "outputs": []
    },
    {
      "cell_type": "code",
      "metadata": {
        "id": "5110GeVXJOBL",
        "colab_type": "code",
        "colab": {}
      },
      "source": [
        "def custom_encoding_ordinal_categorical_variables_locale(data):\n",
        "    \n",
        "    \"\"\"Seeing from above that different locale are having different\n",
        "        hits count so we need to treat them as ordinal categorical variables\"\"\"\n",
        "    \n",
        "    locale_dic = {'L1': 1, 'L2': 2, 'L3': 3, 'L4': 4, 'L5': 5, 'L6': 6}\n",
        "    data['locale'] = data['locale'].replace(locale_dic)\n",
        "    \n",
        "    return data"
      ],
      "execution_count": 0,
      "outputs": []
    },
    {
      "cell_type": "code",
      "metadata": {
        "id": "HOHsQ38hJOBO",
        "colab_type": "code",
        "colab": {}
      },
      "source": [
        "custom_encoding_ordinal_categorical_variables_day_of_week(data_train)\n",
        "custom_encoding_ordinal_categorical_variables_locale(data_train)\n",
        "custom_encoding_ordinal_categorical_variables_day_of_week(data_test)\n",
        "custom_encoding_ordinal_categorical_variables_locale(data_test)"
      ],
      "execution_count": 0,
      "outputs": []
    },
    {
      "cell_type": "code",
      "metadata": {
        "id": "q2Plr9_uJOBY",
        "colab_type": "code",
        "colab": {}
      },
      "source": [
        "## Column for total number of locations visited.\n",
        "data_train['num_loc_visits'] = (data_train['path_id_set'].str.count(';') + 1) - zero_count\n",
        "data_test['num_loc_visits'] = (data_test['path_id_set'].str.count(';') + 1) - zero_count_test\n",
        "\n",
        "## Dropping the column path_id_set\n",
        "data_train.drop(columns = {'path_id_set'}, inplace = True)\n",
        "data_test.drop(columns = {'path_id_set'}, inplace = True)\n",
        "\n",
        "## Converting session_duration to integer.\n",
        "data_train['session_durantion'] = data_train['session_durantion'].astype('int')\n",
        "data_test['session_durantion'] = data_test['session_durantion'].astype('int')"
      ],
      "execution_count": 0,
      "outputs": []
    },
    {
      "cell_type": "code",
      "metadata": {
        "id": "19TmU8IJJOBc",
        "colab_type": "code",
        "colab": {}
      },
      "source": [
        "## A new columns which is the product of session_duration and num_loc_visits.\n",
        "data_train['num_sess_visits'] = data_train['session_durantion'] * data_train['num_loc_visits']\n",
        "data_test['num_sess_visits'] = data_test['session_durantion'] * data_test['num_loc_visits']\n",
        "\n",
        "# data_train['num_loc_visits^2'] = data_train['num_loc_visits'] * data_train['num_loc_visits']\n",
        "# data_train['session_durantion'] = data_train['session_durantion'] * data_train['session_durantion']"
      ],
      "execution_count": 0,
      "outputs": []
    },
    {
      "cell_type": "code",
      "metadata": {
        "id": "4jkL6QWI4g1q",
        "colab_type": "code",
        "colab": {}
      },
      "source": [
        " ## Different aggregations for different categorical variables based on num_sess_visits and session_duration.\n",
        "  \n",
        "  GROUPBY_AGGREGATIONS = [\n",
        "    {'groupby': ['agent_id','locale', 'traffic_type', 'day_of_week'], 'select': 'num_sess_visits', 'agg': 'var'},\n",
        "    {'groupby': ['agent_id','locale', 'traffic_type', 'day_of_week'], 'select': 'num_sess_visits', 'agg': 'count'},\n",
        "    {'groupby': ['agent_id','locale', 'traffic_type', 'day_of_week'], 'select': 'num_sess_visits', 'agg': 'mean'},\n",
        "    {'groupby': ['agent_id', 'locale', 'traffic_type', 'entry_page'], 'select': 'num_sess_visits', 'agg': 'var'},\n",
        "    {'groupby': ['agent_id', 'locale', 'traffic_type', 'entry_page'], 'select': 'num_sess_visits', 'agg': 'count'},\n",
        "    {'groupby': ['agent_id', 'locale', 'traffic_type', 'entry_page'], 'select': 'num_sess_visits', 'agg': 'mean'},\n",
        "    {'groupby': ['agent_id','locale', 'traffic_type', 'day_of_week'], 'select': 'session_durantion', 'agg': 'var'},\n",
        "    {'groupby': ['agent_id','locale', 'traffic_type', 'day_of_week'], 'select': 'session_durantion', 'agg': 'count'},\n",
        "    {'groupby': ['agent_id','locale', 'traffic_type', 'day_of_week'], 'select': 'session_durantion', 'agg': 'mean'},\n",
        "    {'groupby': ['agent_id', 'locale', 'traffic_type', 'entry_page'], 'select': 'session_durantion', 'agg': 'var'},\n",
        "    {'groupby': ['agent_id', 'locale', 'traffic_type', 'entry_page'], 'select': 'session_durantion', 'agg': 'count'},\n",
        "    {'groupby': ['agent_id', 'locale', 'traffic_type', 'entry_page'], 'select': 'session_durantion', 'agg': 'mean'},\n",
        "   # {'groupby': ['agent_id', 'locale'], 'select': 'traffic_type', 'agg': 'var'},\n",
        "   # {'groupby': ['agent_id', 'locale'], 'select': 'traffic_type', 'agg': 'count'},\n",
        "   # {'groupby': ['agent_id', 'locale'], 'select': 'traffic_type', 'agg': 'mean'}\n",
        "    \n",
        " ]"
      ],
      "execution_count": 0,
      "outputs": []
    },
    {
      "cell_type": "code",
      "metadata": {
        "id": "weN3DQJt4i__",
        "colab_type": "code",
        "colab": {}
      },
      "source": [
        "for x in GROUPBY_AGGREGATIONS:\n",
        "    \n",
        "    agg_name = x['agg_name'] if 'agg_name' in x else x['agg']\n",
        "    new_feature = '{}_{}_{}'.format('_'.join(x['groupby']), agg_name, x['select'])\n",
        "\n",
        "    all_features = list(set(x['groupby'] + [x['select']]))\n",
        "    nf = data_train[all_features]. \\\n",
        "    groupby(x['groupby'])[x['select']]. \\\n",
        "    agg(x['agg']). \\\n",
        "    reset_index(). \\\n",
        "    rename(index=str, columns={x['select']: new_feature})\n",
        "    \n",
        "    nf_test = data_test[all_features]. \\\n",
        "    groupby(x['groupby'])[x['select']]. \\\n",
        "    agg(x['agg']). \\\n",
        "    reset_index(). \\\n",
        "    rename(index=str, columns={x['select']: new_feature})\n",
        "    \n",
        "    data_train = data_train.merge(nf, on=x['groupby'], how='left')\n",
        "    data_test = data_test.merge(nf_test, on=x['groupby'], how='left')\n",
        "\n",
        "    "
      ],
      "execution_count": 0,
      "outputs": []
    },
    {
      "cell_type": "code",
      "metadata": {
        "id": "32qRLzLHqDgR",
        "colab_type": "code",
        "colab": {}
      },
      "source": [
        "data_test.isnull().sum()"
      ],
      "execution_count": 0,
      "outputs": []
    },
    {
      "cell_type": "code",
      "metadata": {
        "id": "h2GxVF-Wnc2q",
        "colab_type": "code",
        "colab": {}
      },
      "source": [
        "## Getting the confRate for different categorical variables.\n",
        "ATTRIBUTION_CATEGORIES = [\n",
        "    ['agent_id'], ['locale'], ['traffic_type'], ['entry_page'],['day_of_week'],\n",
        "    \n",
        "    ['agent_id', 'locale'],\n",
        "    ['agent_id', 'traffic_type'],\n",
        "    ['agent_id', 'entry_page'],\n",
        "    ['agent_id', 'day_of_week'],\n",
        "    \n",
        "    ['locale', 'traffic_type'],\n",
        "    ['locale', 'entry_page'],\n",
        "    ['locale', 'day_of_week'],\n",
        "    ['traffic_type', 'entry_page'],\n",
        "    ['traffic_type', 'day_of_week']\n",
        "    \n",
        "]\n",
        "\n",
        "\n",
        "freqs = {}\n",
        "for cols in ATTRIBUTION_CATEGORIES:\n",
        "    \n",
        "    # New feature name\n",
        "    new_feature = '_'.join(cols)+'_confRate'    \n",
        "    \n",
        "    # Perform the groupby\n",
        "    group_object = data_train.groupby(cols)\n",
        "    \n",
        "    # Group sizes    \n",
        "    group_sizes = group_object.size()\n",
        "    log_group = np.log(100000) # 1000 views -> 60% confidence, 100 views -> 40% confidence \n",
        "    print(\">> Calculating confidence-weighted rate for: {}.\\n   Saving to: {}. Group Max /Mean / Median / Min: {} / {} / {} / {}\".format(\n",
        "        cols, new_feature, \n",
        "        group_sizes.max(), \n",
        "        np.round(group_sizes.mean(), 2),\n",
        "        np.round(group_sizes.median(), 2),\n",
        "        group_sizes.min()\n",
        "    ))\n",
        "    \n",
        "    # Aggregation function\n",
        "    def rate_calculation(x):\n",
        "        \"\"\"Calculate the attributed rate. Scale by confidence\"\"\"\n",
        "        rate = x.sum() / float(x.count())\n",
        "        conf = np.min([1, np.log(x.count()) / log_group])\n",
        "        return rate * conf\n",
        "    \n",
        "    # Perform the merge\n",
        "    data_train = data_train.merge(\n",
        "        group_object['session_durantion']. \\\n",
        "            apply(rate_calculation). \\\n",
        "            reset_index(). \\\n",
        "            rename( \n",
        "                index=str,\n",
        "                columns={'session_durantion': new_feature}\n",
        "            )[cols + [new_feature]],\n",
        "        on=cols, how='left'\n",
        "    )\n",
        "    \n",
        "data_train.head()"
      ],
      "execution_count": 0,
      "outputs": []
    },
    {
      "cell_type": "code",
      "metadata": {
        "id": "JMs8nIEuMpOO",
        "colab_type": "code",
        "colab": {}
      },
      "source": [
        "## Getting the confRate for different categorical variables.\n",
        "ATTRIBUTION_CATEGORIES = [\n",
        "    ['agent_id'], ['locale'], ['traffic_type'], ['entry_page'],['day_of_week'],\n",
        "    \n",
        "    ['agent_id', 'locale'],\n",
        "    ['agent_id', 'traffic_type'],\n",
        "    ['agent_id', 'entry_page'],\n",
        "    ['agent_id', 'day_of_week'],\n",
        "    \n",
        "    ['locale', 'traffic_type'],\n",
        "    ['locale', 'entry_page'],\n",
        "    ['locale', 'day_of_week'],\n",
        "    ['traffic_type', 'entry_page'],\n",
        "    ['traffic_type', 'day_of_week']\n",
        "    \n",
        "]\n",
        "\n",
        "\n",
        "freqs = {}\n",
        "for cols in ATTRIBUTION_CATEGORIES:\n",
        "    \n",
        "    # New feature name\n",
        "    new_feature = '_'.join(cols)+'_confRate'    \n",
        "    \n",
        "    # Perform the groupby\n",
        "    group_object = data_test.groupby(cols)\n",
        "    \n",
        "    # Group sizes    \n",
        "    group_sizes = group_object.size()\n",
        "    log_group = np.log(100000) # 1000 views -> 60% confidence, 100 views -> 40% confidence \n",
        "    print(\">> Calculating confidence-weighted rate for: {}.\\n   Saving to: {}. Group Max /Mean / Median / Min: {} / {} / {} / {}\".format(\n",
        "        cols, new_feature, \n",
        "        group_sizes.max(), \n",
        "        np.round(group_sizes.mean(), 2),\n",
        "        np.round(group_sizes.median(), 2),\n",
        "        group_sizes.min()\n",
        "    ))\n",
        "    \n",
        "    # Aggregation function\n",
        "    def rate_calculation(x):\n",
        "        \"\"\"Calculate the attributed rate. Scale by confidence\"\"\"\n",
        "        rate = x.sum() / float(x.count())\n",
        "        conf = np.min([1, np.log(x.count()) / log_group])\n",
        "        return rate * conf\n",
        "    \n",
        "    # Perform the merge\n",
        "    data_test = data_test.merge(\n",
        "        group_object['session_durantion']. \\\n",
        "            apply(rate_calculation). \\\n",
        "            reset_index(). \\\n",
        "            rename( \n",
        "                index=str,\n",
        "                columns={'session_durantion': new_feature}\n",
        "            )[cols + [new_feature]],\n",
        "        on=cols, how='left'\n",
        "    )\n",
        "    \n",
        "data_test.isnull().sum()"
      ],
      "execution_count": 0,
      "outputs": []
    },
    {
      "cell_type": "code",
      "metadata": {
        "id": "BgOzJ0SjJOBd",
        "colab_type": "code",
        "colab": {}
      },
      "source": [
        "## Converting hours to minutes and seconds.\n",
        "data_train['min_of_day'] = data_train['hour_of_day'] * 60\n",
        "data_train['sec_of_day'] = data_train['min_of_day'] * 60\n",
        "\n",
        "data_test['min_of_day'] = data_test['hour_of_day'] * 60\n",
        "data_test['sec_of_day'] = data_test['min_of_day'] * 60"
      ],
      "execution_count": 0,
      "outputs": []
    },
    {
      "cell_type": "code",
      "metadata": {
        "id": "9nj-sdiTho3b",
        "colab_type": "code",
        "colab": {}
      },
      "source": [
        "## Removing missing values\n",
        "data_train = data_train[data_train['agent_id_locale_traffic_type_day_of_week_var_num_sess_visits'].isnull() == False]\n",
        "data_train['agent_id_locale_traffic_type_entry_page_var_num_sess_visits'].fillna(data_train['agent_id_locale_traffic_type_entry_page_var_num_sess_visits'].mean(), inplace = True)\n",
        "data_train['agent_id_locale_traffic_type_entry_page_var_session_durantion'].fillna(data_train['agent_id_locale_traffic_type_entry_page_var_session_durantion'].mean(), inplace = True)\n",
        "\n",
        "## Removing missing values\n",
        "data_test = data_test[data_test['agent_id_locale_traffic_type_day_of_week_var_num_sess_visits'].isnull() == False]\n",
        "data_test['agent_id_locale_traffic_type_entry_page_var_num_sess_visits'].fillna(data_test['agent_id_locale_traffic_type_entry_page_var_num_sess_visits'].mean(), inplace = True)\n",
        "data_test['agent_id_locale_traffic_type_entry_page_var_session_durantion'].fillna(data_test['agent_id_locale_traffic_type_entry_page_var_session_durantion'].mean(), inplace = True)"
      ],
      "execution_count": 0,
      "outputs": []
    },
    {
      "cell_type": "code",
      "metadata": {
        "id": "OWur1rpGx2ah",
        "colab_type": "code",
        "colab": {}
      },
      "source": [
        "## Creating new binary variable which show wether it is a weekend or any other day.\n",
        "data_train['Is_Mon'] = (data_train['day_of_week'] == 1) * 1\n",
        "data_train['Is_Tue'] = (data_train['day_of_week'] == 2) * 1\n",
        "data_train['Is_Wed'] = (data_train['day_of_week'] == 3) * 1\n",
        "data_train['Is_Thu'] = (data_train['day_of_week'] == 4) * 1\n",
        "data_train['Is_Fri'] = (data_train['day_of_week'] == 5) * 1\n",
        "data_train['Is_Sat'] = (data_train['day_of_week'] == 6) * 1\n",
        "data_train['Is_Sun'] = (data_train['day_of_week'] == 7) * 1\n",
        "data_train['Is_Wek'] = (data_train['day_of_week']) // 5\n",
        "\n",
        "\n",
        "data_test['Is_Mon'] = (data_test['day_of_week'] == 1) * 1\n",
        "data_test['Is_Tue'] = (data_test['day_of_week'] == 2) * 1\n",
        "data_test['Is_Wed'] = (data_test['day_of_week'] == 3) * 1\n",
        "data_test['Is_Thu'] = (data_test['day_of_week'] == 4) * 1\n",
        "data_test['Is_Fri'] = (data_test['day_of_week'] == 5) * 1\n",
        "data_test['Is_Sat'] = (data_test['day_of_week'] == 6) * 1\n",
        "data_test['Is_Sun'] = (data_test['day_of_week'] == 7) * 1\n",
        "data_test['Is_Wek'] = (data_test['day_of_week']) // 5"
      ],
      "execution_count": 0,
      "outputs": []
    },
    {
      "cell_type": "code",
      "metadata": {
        "id": "Aoh2PTNqnPAM",
        "colab_type": "code",
        "colab": {}
      },
      "source": [
        "## Considering the data has some temporal aspect we sort the data by row_num\n",
        "data_train = data_train.sort_values('row_num')\n",
        "data_test = data_test.sort_values('row_num')\n",
        "\n",
        "\n",
        "## Removing features based on feature importance graph from xgboost.\n",
        "data_train.drop(columns={ 'Is_Thu', 'locale_confRate', 'Is_Sat', 'day_of_week'}, inplace = True)\n",
        "data_test.drop(columns={ 'Is_Thu', 'locale_confRate', 'Is_Sat', 'day_of_week'}, inplace = True)"
      ],
      "execution_count": 0,
      "outputs": []
    },
    {
      "cell_type": "code",
      "metadata": {
        "id": "q3l2-3-tJOBj",
        "colab_type": "code",
        "colab": {}
      },
      "source": [
        "## Splitting the Data in train, test and Cross-Validation\n",
        "\n",
        "Y = data_train['hits']\n",
        "X = data_train.drop(columns={'hits'}, axis = 1)\n",
        "\n",
        "train_X, test_X, train_Y, test_Y = train_test_split(X, Y, test_size=0.30, random_state = 42)\n",
        "\n",
        "crov_X, test_X, crov_Y, test_Y = train_test_split(test_X, test_Y, test_size = 0.20, random_state = 42)"
      ],
      "execution_count": 0,
      "outputs": []
    },
    {
      "cell_type": "markdown",
      "metadata": {
        "id": "xDr9VFEM6Vw0",
        "colab_type": "text"
      },
      "source": [
        "**MODELING**"
      ]
    },
    {
      "cell_type": "code",
      "metadata": {
        "id": "NR-3E_mTJOBH",
        "colab_type": "code",
        "colab": {}
      },
      "source": [
        "def xgboost(x_train, y_train, x_test, y_test):\n",
        "  \n",
        "  \"\"\"Function for training an xgboost algorithm the parameters have been\n",
        "      selected after reading several kernels from kaggle and Xgboost Documentation.\n",
        "      Currently using params not params_2 as it makes the model very slow.\"\"\"\n",
        "  \n",
        "    dtrain = xgb.DMatrix(x_train, label = y_train, feature_names = list(x_train.columns))\n",
        "    dtest = xgb.DMatrix(x_test, label = y_test, feature_names = list(x_test.columns))\n",
        "    \n",
        "    params_2 = {'booster': 'dart',\n",
        "         'max_depth': 21, 'learning_rate': 0.1,\n",
        "         'silent': True,\n",
        "         'sample_type': 'uniform',\n",
        "         'normalize_type': 'tree',\n",
        "         'rate_drop': 0.1,\n",
        "         'tree_method': 'gpu_hist',\n",
        "         'skip_drop': 0.5}\n",
        "    \n",
        "    params = {'max_depth': 3,\n",
        "              'alpha': 10,\n",
        "              'eta': 0.01,\n",
        "              'learning_rate': 0.01,\n",
        "              'tree_method': 'gpu_hist',\n",
        "              'silent': 1,\n",
        "               'subsample': 1}\n",
        "    \n",
        "    \n",
        "    \n",
        "    bst = xgb.train(params=params,\n",
        "                    dtrain=dtrain,\n",
        "                    num_boost_round=3500,\n",
        "                    early_stopping_rounds=100,\n",
        "                    evals=[(dtest, 'valid'), (dtrain, 'train')],\n",
        "                    verbose_eval=20)\n",
        "    \n",
        "    \n",
        "    plot_importance(bst) ## Function for plotting importance of all features\n",
        "    \n",
        "    return pd.Series(bst.predict(dtest))"
      ],
      "execution_count": 0,
      "outputs": []
    },
    {
      "cell_type": "code",
      "metadata": {
        "id": "eygH7fnYJOBk",
        "colab_type": "code",
        "colab": {}
      },
      "source": [
        "## Training the model\n",
        "preds = pd.DataFrame(xgboost(train_X, train_Y, crov_X, crov_Y)).reset_index()\n",
        "preds.columns = ['row_num', 'hits']"
      ],
      "execution_count": 0,
      "outputs": []
    },
    {
      "cell_type": "code",
      "metadata": {
        "id": "Tyf_vUx9JOBn",
        "colab_type": "code",
        "colab": {}
      },
      "source": [
        "\"\"\"Training a lgbm model the parameters are selected\n",
        "   after reading a lot of kaggle kernels and lgbm documentation\"\"\"\n",
        "dtrain = lgb.Dataset(train_X, train_Y)\n",
        "dtest = lgb.Dataset(crov_X, crov_Y, reference=dtrain)\n",
        "\n",
        "evals_result = {}\n",
        "  \n",
        "params = {}\n",
        "params['max_bin'] = 256,\n",
        "params['max_depth'] = 512\n",
        "params['learning_rate'] = 0.001 # shrinkage_rate\n",
        "params['boosting_type'] = 'gbdt'\n",
        "params['objective'] = 'regression'\n",
        "params['metric'] = 'l1'          # or 'mae'\n",
        "params['sub_feature'] = 0.50      # feature_fraction \n",
        "params['bagging_fraction'] = 0.85 # sub_row\n",
        "params['bagging_freq'] = 40\n",
        "params['num_leaves'] = 512        # num_leaf\n",
        "params['min_data'] = 500         # min_data_in_leaf\n",
        "params['min_hessian'] = 0.05     # min_sum_hessian_in_leaf\n",
        "params['verbose'] = 0\n",
        "n_estimators = 5000\n",
        "\n",
        "\n",
        "lgbm = lgb.train(params, dtrain, num_boost_round=5000, valid_sets= dtest, categorical_feature=['path_id_set'], evals_result=evals_result, early_stopping_rounds=100)"
      ],
      "execution_count": 0,
      "outputs": []
    },
    {
      "cell_type": "code",
      "metadata": {
        "id": "esAU4imfTVXm",
        "colab_type": "code",
        "colab": {
          "base_uri": "https://localhost:8080/",
          "height": 311
        },
        "outputId": "6c2c16f4-5f27-4880-b5f9-427cd41dbb75"
      },
      "source": [
        "print('Plotting metrics recorded during training...')\n",
        "ax = lgb.plot_metric(evals_result, metric='l1')\n",
        "plt.show()"
      ],
      "execution_count": 58,
      "outputs": [
        {
          "output_type": "stream",
          "text": [
            "Plotting metrics recorded during training...\n"
          ],
          "name": "stdout"
        },
        {
          "output_type": "display_data",
          "data": {
            "image/png": "[encoded data removed]",
            "text/plain": [
              "<Figure size 432x288 with 1 Axes>"
            ]
          },
          "metadata": {
            "tags": []
          }
        }
      ]
    },
    {
      "cell_type": "code",
      "metadata": {
        "id": "4BPUuBwsJOBp",
        "colab_type": "code",
        "outputId": "645b79ff-0030-4d55-85bc-177b21bdd545",
        "colab": {
          "base_uri": "https://localhost:8080/",
          "height": 67
        }
      },
      "source": [
        "## lgbm much faster and showing better accuracy then xgboost so\n",
        "## selected this algorithm for final results.\n",
        "print('Starting predicting...')\n",
        "# predict\n",
        "y_pred = lgbm.predict(test_X, num_iteration=lgbm.best_iteration)\n",
        "y_train_pred = lgbm.predict(train_X, num_iteration=lgbm.best_iteration)\n",
        "# eval\n",
        "print('The rmse of prediction is:', mean_squared_error(test_Y, y_pred) ** 0.5)\n",
        "print('The rmse of prediction is:', mean_squared_error(train_Y, y_train_pred) ** 0.5)"
      ],
      "execution_count": 52,
      "outputs": [
        {
          "output_type": "stream",
          "text": [
            "Starting predicting...\n",
            "The rmse of prediction is: 28.75008172153785\n",
            "The rmse of prediction is: 27.447808417568105\n"
          ],
          "name": "stdout"
        }
      ]
    },
    {
      "cell_type": "code",
      "metadata": {
        "id": "2tQROAA6WFkR",
        "colab_type": "code",
        "colab": {}
      },
      "source": [
        "data_test.drop(columns={'hits'}, inplace = True)"
      ],
      "execution_count": 0,
      "outputs": []
    },
    {
      "cell_type": "code",
      "metadata": {
        "id": "_Moy3FYXVwd2",
        "colab_type": "code",
        "colab": {}
      },
      "source": [
        "y_pred_test = lgbm.predict(data_test, num_iteration=lgbm.best_iteration)\n",
        "df = pd.DataFrame()\n",
        "df['row_num'] = data_test['row_num']\n",
        "df['hits'] = y_pred_test\n",
        "\n",
        "df.to_csv('data_test_prediction.csv')"
      ],
      "execution_count": 0,
      "outputs": []
    },
    {
      "cell_type": "markdown",
      "metadata": {
        "id": "e5GzcaAqvTZY",
        "colab_type": "text"
      },
      "source": [
        "**As we can see by using L1 regularization makes the training rmse larger than test rmse. Thus\n",
        "making over-fitting minimum.**\n",
        "\n",
        "\n"
      ]
    },
    {
      "cell_type": "code",
      "metadata": {
        "id": "NdOU3hRCwqw5",
        "colab_type": "code",
        "colab": {}
      },
      "source": [
        "train_features = [x for x in train_X.columns]\n",
        "imp_df = pd.DataFrame()\n",
        "imp_df[\"feature\"] = list(train_features)\n",
        "imp_df[\"importance_gain\"] = lgbm.feature_importance(importance_type='gain')\n",
        "imp_df[\"importance_split\"] = lgbm.feature_importance(importance_type='split')\n",
        "imp_df['trn_score'] = mean_squared_error(data_train['hits'], lgbm.predict(data_train[train_features]))**0.5"
      ],
      "execution_count": 0,
      "outputs": []
    },
    {
      "cell_type": "code",
      "metadata": {
        "id": "m-YSERHkiuWR",
        "colab_type": "code",
        "colab": {}
      },
      "source": [
        "params = {}\n",
        "params['max_bin'] = 10\n",
        "params['learning_rate'] = 0.01 # shrinkage_rate\n",
        "params['boosting_type'] = 'gbdt'\n",
        "params['objective'] = 'regression'\n",
        "params['metric'] = 'l1'          # or 'mae'\n",
        "params['sub_feature'] = 0.50      # feature_fraction \n",
        "params['bagging_fraction'] = 0.85 # sub_row\n",
        "params['bagging_freq'] = 40\n",
        "params['num_leaves'] = 512        # num_leaf\n",
        "params['min_data'] = 500         # min_data_in_leaf\n",
        "params['min_hessian'] = 0.05     # min_sum_hessian_in_leaf\n",
        "params['verbose'] = 0"
      ],
      "execution_count": 0,
      "outputs": []
    },
    {
      "cell_type": "code",
      "metadata": {
        "id": "IbmPu4yAi4ic",
        "colab_type": "code",
        "colab": {
          "base_uri": "https://localhost:8080/",
          "height": 70
        },
        "outputId": "e5da26fd-e4fc-4063-a66c-7227d7a6ef6d"
      },
      "source": [
        "## Experimenting with k-crossvalidation\n",
        "lgbm = lgb.cv(params, dtrain, num_boost_round=5000, early_stopping_rounds=100, nfold=3)"
      ],
      "execution_count": 110,
      "outputs": [
        {
          "output_type": "stream",
          "text": [
            "/usr/local/lib/python3.6/dist-packages/sklearn/model_selection/_split.py:657: Warning: The least populated class in y has only 1 members, which is too few. The minimum number of members in any class cannot be less than n_splits=3.\n",
            "  % (min_groups, self.n_splits)), Warning)\n"
          ],
          "name": "stderr"
        }
      ]
    },
    {
      "cell_type": "code",
      "metadata": {
        "id": "cNT0wb39i_6e",
        "colab_type": "code",
        "colab": {
          "base_uri": "https://localhost:8080/",
          "height": 120
        },
        "outputId": "c4d1885e-4107-4788-b452-c6a321257f6b"
      },
      "source": [
        "print('Current parameters:\\n', params)\n",
        "print('\\nBest num_boost_round:', len(lgbm['l1-mean']))\n",
        "print('Best CV score:', lgbm['l1-mean'][-1])"
      ],
      "execution_count": 111,
      "outputs": [
        {
          "output_type": "stream",
          "text": [
            "Current parameters:\n",
            " {'max_bin': 10, 'learning_rate': 0.01, 'boosting_type': 'gbdt', 'objective': 'regression', 'metric': 'l1', 'sub_feature': 0.5, 'bagging_fraction': 0.85, 'bagging_freq': 40, 'num_leaves': 512, 'min_data': 500, 'min_hessian': 0.05, 'verbose': 0}\n",
            "\n",
            "Best num_boost_round: 472\n",
            "Best CV score: 10.347176878356175\n"
          ],
          "name": "stdout"
        }
      ]
    }
  ]
}